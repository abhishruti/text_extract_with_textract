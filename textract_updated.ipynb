{
  "nbformat": 4,
  "nbformat_minor": 0,
  "metadata": {
    "colab": {
      "name": "VisitingCard.ipynb",
      "provenance": [],
      "collapsed_sections": [
        "7o7KfXddb4o0"
      ]
    },
    "kernelspec": {
      "name": "python3",
      "display_name": "Python 3"
    }
  },
  "cells": [
    {
      "cell_type": "markdown",
      "metadata": {
        "id": "zGuNpAC1LNQy"
      },
      "source": [
        "# Text-extraction"
      ]
    },
    {
      "cell_type": "markdown",
      "metadata": {
        "id": "0jHEI9iopXGt"
      },
      "source": [
        "### Installing and importing libraries"
      ]
    },
    {
      "cell_type": "code",
      "metadata": {
        "id": "-AD7QGA3MLQ9",
        "colab": {
          "base_uri": "https://localhost:8080/"
        },
        "outputId": "7dc5967b-043c-4b8e-adab-361e500da2cb"
      },
      "source": [
        "from google.colab import drive\n",
        "drive.mount('/content/drive')"
      ],
      "execution_count": 1,
      "outputs": [
        {
          "output_type": "stream",
          "text": [
            "Drive already mounted at /content/drive; to attempt to forcibly remount, call drive.mount(\"/content/drive\", force_remount=True).\n"
          ],
          "name": "stdout"
        }
      ]
    },
    {
      "cell_type": "code",
      "metadata": {
        "id": "spIZFAedg8aq"
      },
      "source": [
        "!apt-get install python-dev libxml2-dev libxslt1-dev antiword unrtf poppler-utils pstotext tesseract-ocr flac ffmpeg lame libmad0 libsox-fmt-mp3 sox libjpeg-dev swig libpulse-dev\n",
        "!pip install textract"
      ],
      "execution_count": null,
      "outputs": []
    },
    {
      "cell_type": "code",
      "metadata": {
        "id": "YeELfZBeuAgG"
      },
      "source": [
        "from google.colab.patches import cv2_imshow\n",
        "import cv2\n",
        "import textract"
      ],
      "execution_count": 3,
      "outputs": []
    },
    {
      "cell_type": "markdown",
      "metadata": {
        "id": "gpGL-_3_LJqE"
      },
      "source": [
        "### Start"
      ]
    },
    {
      "cell_type": "markdown",
      "metadata": {
        "id": "F0XF_ux0BoAa"
      },
      "source": [
        "read image"
      ]
    },
    {
      "cell_type": "code",
      "metadata": {
        "id": "2cdECOM4x4pw"
      },
      "source": [
        "image = cv2.imread('/content/202002-310008-610330-54.jpg')\n",
        "image_cp = image.copy()"
      ],
      "execution_count": 34,
      "outputs": []
    },
    {
      "cell_type": "markdown",
      "metadata": {
        "id": "fGBDDRb4BpqK"
      },
      "source": [
        "Detect contour and crop along the edge"
      ]
    },
    {
      "cell_type": "code",
      "metadata": {
        "id": "2GTEKYR_m7Ii"
      },
      "source": [
        "image_cp = cv2.resize(image_cp, None, fx=2, fy=2, interpolation=cv2.INTER_CUBIC)\n",
        "gray=cv2.cvtColor(image_cp,cv2.COLOR_BGR2GRAY) \n",
        "edged = cv2.Canny(image_cp, 10, 250) \n",
        "\n",
        "#applying closing function  \n",
        "kernel = cv2.getStructuringElement(cv2.MORPH_RECT, (7, 7)) \n",
        "closed = cv2.morphologyEx(edged, cv2.MORPH_CLOSE, kernel)\n",
        "\n",
        "(cnts, _) = cv2.findContours(closed.copy(), cv2.RETR_EXTERNAL, cv2.CHAIN_APPROX_SIMPLE) \n",
        "for c in cnts: \n",
        "  x,y,w,h = cv2.boundingRect(c)\n",
        "  if w>200 and h>200:\n",
        "    new_img=image_cp[y:y+h,x:x+w]"
      ],
      "execution_count": 35,
      "outputs": []
    },
    {
      "cell_type": "markdown",
      "metadata": {
        "id": "z15RJ7N7BxgC"
      },
      "source": [
        "Binary image"
      ]
    },
    {
      "cell_type": "code",
      "metadata": {
        "colab": {
          "base_uri": "https://localhost:8080/"
        },
        "id": "GsC8oYghms1w",
        "outputId": "69754a03-684d-4259-d875-64fdc239fc17"
      },
      "source": [
        "gray = cv2.cvtColor(new_img, cv2.COLOR_BGR2GRAY)\n",
        "otsu = cv2.threshold(gray,0,255,cv2.THRESH_BINARY_INV+cv2.THRESH_OTSU)[1]\n",
        "doit = (gray > otsu).astype(\"uint8\") * 255\n",
        "# show the scanned image and save one copy in out folder\n",
        "cv2.imwrite('/content/letsee.PNG', doit)"
      ],
      "execution_count": 37,
      "outputs": [
        {
          "output_type": "execute_result",
          "data": {
            "text/plain": [
              "True"
            ]
          },
          "metadata": {
            "tags": []
          },
          "execution_count": 37
        }
      ]
    },
    {
      "cell_type": "markdown",
      "metadata": {
        "id": "JM6H-ZFFCL2u"
      },
      "source": [
        "Extract text with textract and refine the text"
      ]
    },
    {
      "cell_type": "code",
      "metadata": {
        "id": "G0b0LnwcoGOs"
      },
      "source": [
        "text = str(textract.process('/content/letsee.PNG', lang='eng'))\n",
        "\n",
        "text=text[1:]\n",
        "text = ''.join(text.split(\"'\"))\n",
        "text = ' '.join(text.split(\"\\\\n\"))\n",
        "text = ''.join(text.split(\"\\\\x\"))"
      ],
      "execution_count": 38,
      "outputs": []
    },
    {
      "cell_type": "code",
      "metadata": {
        "colab": {
          "base_uri": "https://localhost:8080/"
        },
        "id": "W2xSYlGyyLN7",
        "outputId": "78926fc5-57f6-4628-da07-a5206e384047"
      },
      "source": [
        "print(text)"
      ],
      "execution_count": 39,
      "outputs": [
        {
          "output_type": "stream",
          "text": [
            "   Accurate Accountant  1 2 Tax Service of The Future  Jawahar Batra  Accountant       28, Nupoor Apartments, RajPur Chandigarh - 177845  BX) banik.baalkrishanegandhi.com  c382c2a3 +91 601 4843981 e www.swimceentre.com          0c\n"
          ],
          "name": "stdout"
        }
      ]
    }
  ]
}